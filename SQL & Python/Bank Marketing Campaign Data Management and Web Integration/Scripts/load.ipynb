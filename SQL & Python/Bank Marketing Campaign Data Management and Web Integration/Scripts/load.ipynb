{
 "cells": [
  {
   "cell_type": "code",
   "execution_count": 1,
   "id": "a512b762",
   "metadata": {
    "scrolled": true
   },
   "outputs": [],
   "source": [
    "import pandas as pd\n",
    "import psycopg2"
   ]
  },
  {
   "cell_type": "code",
   "execution_count": 2,
   "id": "211d2ba2",
   "metadata": {},
   "outputs": [],
   "source": [
    "#CLIENT CAMPAIGN DETAILS\n",
    "\n",
    "# establish a connection to the PostgreSQL database\n",
    "conn = psycopg2.connect(database=\"bankmarketing\", user=\"postgres\", password=\"1234\", host=\"localhost\", port=\"5432\")\n",
    "\n",
    "# create a cursor object\n",
    "cur = conn.cursor()\n",
    "\n",
    "# read the CSV file using pandas\n",
    "df = pd.read_csv('client_campaign_details.csv')\n",
    "\n",
    "try:\n",
    "    # loop through each row in the dataframe and insert the values into the PostgreSQL table\n",
    "    for index, row in df.iterrows():\n",
    "        cur.execute(\"INSERT INTO client_campaign_details (client_id, campaign, pdays, previous, poutcome, outcome) VALUES (%s, %s, %s, %s, %s, %s)\", (row['client_id'], row['campaign'], row['pdays'], row['previous'], row['poutcome'], row['outcome']))\n",
    "    \n",
    "    # commit the changes and close the cursor and connection objects\n",
    "    conn.commit()\n",
    "    cur.close()\n",
    "    conn.close()\n",
    "    \n",
    "except (Exception, psycopg2.DatabaseError) as error:\n",
    "    # rollback the transaction and close the connection\n",
    "    print(error)\n",
    "    conn.rollback()\n",
    "    cur.close()\n",
    "    conn.close()"
   ]
  },
  {
   "cell_type": "code",
   "execution_count": 3,
   "id": "abf97549",
   "metadata": {},
   "outputs": [],
   "source": [
    "#CLIENT LAST CONTACT DETAILS\n",
    "\n",
    "# establish a connection to the PostgreSQL database\n",
    "conn = psycopg2.connect(database=\"bankmarketing\", user=\"postgres\", password=\"1234\", host=\"localhost\", port=\"5432\")\n",
    "\n",
    "# create a cursor object\n",
    "cur = conn.cursor()\n",
    "\n",
    "# read the CSV file using pandas\n",
    "df = pd.read_csv('client_lastcontact_details.csv')\n",
    "\n",
    "try:\n",
    "    # loop through each row in the dataframe and insert the values into the PostgreSQL table\n",
    "    for index, row in df.iterrows():\n",
    "        cur.execute(\"INSERT INTO client_lastcontact_details (phone_num,client_id,contact,day_of_week,month,duration) VALUES (%s, %s, %s, %s, %s, %s)\", (row['phone_num'], row['client_id'], row['contact'], row['day_of_week'], row['month'], row['duration']))\n",
    "    \n",
    "    # commit the changes and close the cursor and connection objects\n",
    "    conn.commit()\n",
    "    cur.close()\n",
    "    conn.close()\n",
    "    \n",
    "except (Exception, psycopg2.DatabaseError) as error:\n",
    "    # rollback the transaction and close the connection\n",
    "    print(error)\n",
    "    conn.rollback()\n",
    "    cur.close()\n",
    "    conn.close()"
   ]
  },
  {
   "cell_type": "code",
   "execution_count": 4,
   "id": "4dfaa014",
   "metadata": {},
   "outputs": [
    {
     "name": "stderr",
     "output_type": "stream",
     "text": [
      "/var/folders/k7/jh2smtkd4j1cznsbhnc7p0h00000gn/T/ipykernel_11192/2651217476.py:11: FutureWarning: The default value of regex will change from True to False in a future version. In addition, single character regular expressions will *not* be treated as literal strings when regex=True.\n",
      "  df['salary'] = df['salary'].str.replace('$','')\n"
     ]
    }
   ],
   "source": [
    "#CLIENT JOB DETAILS\n",
    "\n",
    "# establish a connection to the PostgreSQL database\n",
    "conn = psycopg2.connect(database=\"bankmarketing\", user=\"postgres\", password=\"1234\", host=\"localhost\", port=\"5432\")\n",
    "\n",
    "# create a cursor object\n",
    "cur = conn.cursor()\n",
    "\n",
    "# read the CSV file using pandas\n",
    "df = pd.read_csv('client_job_details.csv')\n",
    "df['salary'] = df['salary'].str.replace('$','')\n",
    "df['salary'] = df['salary'].str.replace('k','000')\n",
    "df['salary'] = pd.to_numeric(df['salary'])\n",
    "\n",
    "try:\n",
    "    # loop through each row in the dataframe and insert the values into the PostgreSQL table\n",
    "    for index, row in df.iterrows():\n",
    "        cur.execute(\"INSERT INTO client_job_details (job_id,client_id,job,salary) VALUES (%s, %s, %s, %s)\", (row['job_id'], row['client_id'], row['job'], row['salary']))\n",
    "    \n",
    "    # commit the changes and close the cursor and connection objects\n",
    "    conn.commit()\n",
    "    cur.close()\n",
    "    conn.close()\n",
    "    \n",
    "except (Exception, psycopg2.DatabaseError) as error:\n",
    "    # rollback the transaction and close the connection\n",
    "    print(error)\n",
    "    conn.rollback()\n",
    "    cur.close()\n",
    "    conn.close()"
   ]
  },
  {
   "cell_type": "code",
   "execution_count": 5,
   "id": "ad99aed5",
   "metadata": {},
   "outputs": [],
   "source": [
    "#CLIENT DETAILS\n",
    "\n",
    "# establish a connection to the PostgreSQL database\n",
    "conn = psycopg2.connect(database=\"bankmarketing\", user=\"postgres\", password=\"1234\", host=\"localhost\", port=\"5432\")\n",
    "\n",
    "# create a cursor object\n",
    "cur = conn.cursor()\n",
    "\n",
    "# read the CSV file using pandas\n",
    "df = pd.read_csv('client_details.csv')\n",
    "\n",
    "try:\n",
    "    # loop through each row in the dataframe and insert the values into the PostgreSQL table\n",
    "    for index, row in df.iterrows():\n",
    "        cur.execute(\"INSERT INTO client_details (client_id,first_name,last_name,city_residence,age,marital_status,education,phone_num,job_id) VALUES (%s, %s, %s, %s,%s, %s, %s, %s,%s)\", (row['client_id'], row['first_name'], row['last_name'], row['city_residence'],row['age'], row['marital_status'], row['education'], row['phone_num'],row['job_id']))\n",
    "    \n",
    "    # commit the changes and close the cursor and connection objects\n",
    "    conn.commit()\n",
    "    cur.close()\n",
    "    conn.close()\n",
    "    \n",
    "except (Exception, psycopg2.DatabaseError) as error:\n",
    "    # rollback the transaction and close the connection\n",
    "    print(error)\n",
    "    conn.rollback()\n",
    "    cur.close()\n",
    "    conn.close()"
   ]
  },
  {
   "cell_type": "code",
   "execution_count": 6,
   "id": "14ca4b2d",
   "metadata": {},
   "outputs": [],
   "source": [
    "#CLIENT LOAN DETAILS\n",
    "\n",
    "# establish a connection to the PostgreSQL database\n",
    "conn = psycopg2.connect(database=\"bankmarketing\", user=\"postgres\", password=\"1234\", host=\"localhost\", port=\"5432\")\n",
    "\n",
    "# create a cursor object\n",
    "cur = conn.cursor()\n",
    "\n",
    "# read the CSV file using pandas\n",
    "df = pd.read_csv('client_loan_details.csv')\n",
    "try:\n",
    "    # loop through each row in the dataframe and insert the values into the PostgreSQL table\n",
    "    for index, row in df.iterrows():\n",
    "        cur.execute(\"INSERT INTO client_loan_details (loan_id,client_id,credit_default,housing_loan,personal_loan,credit_score) VALUES (%s, %s, %s, %s,%s,%s)\", (row['loan_id'], row['client_id'], row['credit_default'], row['housing_loan'], row['personal_loan'],row['credit_score']))\n",
    "\n",
    "    # commit the changes and close the cursor and connection objects\n",
    "    conn.commit()\n",
    "    cur.close()\n",
    "    conn.close()\n",
    "except (Exception, psycopg2.DatabaseError) as error:\n",
    "    # rollback the transaction and close the connection\n",
    "    print(error)\n",
    "    conn.rollback()\n",
    "    cur.close()\n",
    "    conn.close()"
   ]
  },
  {
   "cell_type": "code",
   "execution_count": 7,
   "id": "a1eb09d7",
   "metadata": {},
   "outputs": [
    {
     "name": "stderr",
     "output_type": "stream",
     "text": [
      "/var/folders/k7/jh2smtkd4j1cznsbhnc7p0h00000gn/T/ipykernel_11192/2998439753.py:12: FutureWarning: The default value of regex will change from True to False in a future version. In addition, single character regular expressions will *not* be treated as literal strings when regex=True.\n",
      "  df['salary'] = df['salary'].str.replace('$','')\n"
     ]
    }
   ],
   "source": [
    "#CLIENT SOCIOECONOMIC DETAILS\n",
    "\n",
    "\n",
    "# establish a connection to the PostgreSQL database\n",
    "conn = psycopg2.connect(database=\"bankmarketing\", user=\"postgres\", password=\"1234\", host=\"localhost\", port=\"5432\")\n",
    "\n",
    "# create a cursor object\n",
    "cur = conn.cursor()\n",
    "\n",
    "# read the CSV file using pandas\n",
    "df = pd.read_csv('client_socioeconomic_details.csv')\n",
    "df['salary'] = df['salary'].str.replace('$','')\n",
    "df['salary'] = df['salary'].str.replace('k','000')\n",
    "df['salary'] = pd.to_numeric(df['salary'])\n",
    "try:\n",
    "    # loop through each row in the dataframe and insert the values into the PostgreSQL table\n",
    "    for index, row in df.iterrows():\n",
    "        cur.execute(\"INSERT INTO client_socioeconomic_details (client_id,emp_var_rate,cons_price_idx,cons_conf_idx,euribor_3m,num_of_emp,salary,job_id) VALUES (%s, %s, %s, %s,%s,%s, %s, %s)\", (row['client_id'], row['emp_var_rate'], row['cons_price_idx'],row['cons_conf_idx'], row['euribor_3m'], row['num_of_emp'], row['salary'], row['job_id']))\n",
    "\n",
    "    # commit the changes and close the cursor and connection objects\n",
    "    conn.commit()\n",
    "    cur.close()\n",
    "    conn.close()\n",
    "except (Exception, psycopg2.DatabaseError) as error:\n",
    "    # rollback the transaction and close the connection\n",
    "    print(error)\n",
    "    conn.rollback()\n",
    "    cur.close()\n",
    "    conn.close()"
   ]
  },
  {
   "cell_type": "code",
   "execution_count": null,
   "id": "82c6a9bc",
   "metadata": {},
   "outputs": [],
   "source": []
  }
 ],
 "metadata": {
  "kernelspec": {
   "display_name": "Python 3 (ipykernel)",
   "language": "python",
   "name": "python3"
  },
  "language_info": {
   "codemirror_mode": {
    "name": "ipython",
    "version": 3
   },
   "file_extension": ".py",
   "mimetype": "text/x-python",
   "name": "python",
   "nbconvert_exporter": "python",
   "pygments_lexer": "ipython3",
   "version": "3.9.12"
  }
 },
 "nbformat": 4,
 "nbformat_minor": 5
}
